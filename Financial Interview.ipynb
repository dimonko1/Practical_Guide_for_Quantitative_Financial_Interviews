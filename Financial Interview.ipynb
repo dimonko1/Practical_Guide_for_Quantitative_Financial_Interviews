{
 "cells": [
  {
   "cell_type": "markdown",
   "id": "da5595b6-fb19-4c84-82cd-326293d1a774",
   "metadata": {},
   "source": [
    "# Github: <font color=orange><a href='https://github.com/dimonko1'>@dimonko1</a></font>"
   ]
  },
  {
   "cell_type": "markdown",
   "id": "3093ca10-310e-48f3-beda-db2e440435be",
   "metadata": {},
   "source": [
    "# <font color=7E87FC>A Practical Guide to Quantitative Finance Interview</font>\n",
    "<hr>"
   ]
  },
  {
   "cell_type": "markdown",
   "id": "0259d10a-4465-463d-b645-b8a3df70acc6",
   "metadata": {},
   "source": [
    "## <font color=7E87FC>Обозначения</font>: $\\forall$ – for each; $\\exists$ – there exists, $\\therefore$ – therfore, $A\\Rightarrow B$ – whenever A is true, B is also true, $\\sum$ – sum, $\\prod$ – production, $n!$ – factorial, $\\Phi$ – empty set, $\\int f(x)dx$ – неопределённый (indefinite) интеграл $f(x)$, $\\int_{a}^b f(x)dx$ – определённый интеграл $f(x)$ от $a$ до $b$, $N(\\mu, \\sigma^2)$ – нормальное распределение, $cdf$ – cumulative density function, $pdf$ – probability density function.\n",
    "<hr>"
   ]
  },
  {
   "cell_type": "markdown",
   "id": "9a7da113-532c-4322-8e6f-6ef50cd6a9e9",
   "metadata": {},
   "source": [
    "# <font color=7E87FC>Chapter 1. General Principles</font>.\n",
    "### 1. <font color=7E87FC>Build a broad knowledge base</font> – mathematics, finance and programming. Know the basics very well!\n",
    "### 2. <font color=7E87FC>Practice your interview skills</font>.\n",
    "### 3. <font color=7E87FC>Listen carefully</font>.\n",
    "### 4. <font color=7E87FC>Speak your mind</font>.\n",
    "### 5. <font color=7E87FC>Make reasonable assumptions</font>.\n",
    "<hr>"
   ]
  },
  {
   "cell_type": "markdown",
   "id": "c89c102b-5691-4b68-a256-cd6329dd0483",
   "metadata": {},
   "source": [
    "## <font color=7E87FC>Chapter 2. Brain Teasers</font>:\n",
    "## <font color=7E87FC>2.1 Problem Simplification</font>. \n",
    "### Если проблема с перебором жёсткая, попробовать прийти к упрощённой версии проблемы и попробовать решить сначала её. Либо sub-problem. \n",
    "### <font color=7E87FC>Screwy pirates</font>. Пять пиратов залутали сундук на 100 монет. Они были демократического склада ума, и решили поделить всё следующим образом:\n",
    "### Самый старший пират предлагает распределить монеты. Все пираты, включая старшего, голосуют. Если по крайней мере 50% пиратов (3 в данном случае) голосуют ЗА, то делят этим образом. Если нет, то старший пират будет скормлен акулам, и процесс пойдёт по новой со следующим старшим пиратом. Процесс повторяется, пока они не договорятся. Предполагаем, что все пираты охуительно рациональные: прежде всего им важно выжить, уже потом залутать золото. Также они кровожадные и хотят кикнуть как можно больше пиратов с лодки. Как поделят золото?\n",
    "### Наш кейс $n=5$. В общем виде для каждого кейса с $2n+1$ пиратами, старший пират предложит каждому нечётному пирату одну монету, купив их голоса, так как им это будет рациональнее, чем быть съеденными акулами или не получить ничего.\n",
    "### <font color=7E87FC>Tiger and sheep</font>. Сто тигров и одна овца попадают на волшебный остров, где растёт только трава. Тигры могут есть траву, но они скорее съедят овцу. $A$: в каждый момент времени только один тигр может съесть овцу, и этот тигр сам станет овцой после поедания; $B$: Все тигры умные и охуительно рациональные, хотят выжить. Будет ли в итоге съедена овца?\n",
    "### Вряд ли тигр будет есть траву, так как это практически гарантированно означает быть съеденным. В итоге при чётном количестве овца не будет съедена, а при нечётом – будет.\n",
    "## <font color=7E87FC>Logic Reasoning</font>.\n",
    "### <font color=7E87FC>2.2 River crossing</font>. Четыре человека ($A,B,C,D$) пересекают реку. Единственный способ – старый мост, который выдерживает только двух людей одновременно. Всё происходит ночью, и нихера не видно, и на всех у них один факел. Так, каждая пара может идти со скоростью самого медленного человека в паре. Им нужно перейти как можно быстрее. $A$ тратит 10 минут, $B$ – 5 минут, $C$ – 2 минуты, $D$ – 1 минуту. За какое самое быстрое время они пересекут мост?\n",
    "### Очевидно, что $A,B$ должны переходить мост вместе, причём им нельзя идти первыми, т.к. самому быстрому человеку придётся идти назад 5 минут с факелом. В итоге связующим элементом везде будет $D$ с 1 минутой туда и одной назад. В итоге будет 17 минут в общей сумме.\n",
    "### <font color=7E87FC>Birthday problem</font>. Мы с коллегами знаем, что у босса $A$ днюха в одну из след. дат: 4 марта, 5 марта, 8 марта, 4 июня, 7 июня, 1 сентебря, 5 сентября, 1 декабря, 2 декабря, 8 декабря. $A$ сказал нам только месяц своей днюхи, а $C$ – только день. Мы говорим \"я не знаю дату днюхи, $C$ тоже не знает\", потом $C$ отвечает: \"я не знал дату днюхи, но теперь я знаю\". Потом мы говорим: \"теперь я тоже знаю\". Тут решать через unique dates and months.\n",
    "## <font color=7E87FC>2.3 Thinking Out of the Box</font>.\n",
    "<hr>"
   ]
  },
  {
   "cell_type": "markdown",
   "id": "d6c02a7d-3c3f-444e-a412-3cd54a151299",
   "metadata": {},
   "source": [
    "# <font color=7E87FC>Chapter 3. Calculus and Linear Algebra</font>.\n",
    "## <font color=7E87FC>3.1 Limits and Derivatives</font>.\n",
    "### <font color=7E87FC>Basics of derivatives</font>.\n",
    "### Пусть $y=f(x)$, тогда $f'(x)=\\frac{dy}{dx}=\\lim_{\\Delta x\\to 0}\\frac{\\Delta y}{\\Delta x} = \\lim_{\\Delta x \\to 0}\\frac{f(x+\\Delta x) - f(x)}{\\Delta x}$.\n",
    "### <font color=7E87FC>The product rule</font>: если $u=u(x)$ и $v=v(x)$, и их производные существуют, то $\\frac{d(uv)}{dx} = u\\frac{dv}{dx} + v\\frac{du}{dx}$, $(uv)' = u'v + uv'$.\n",
    "### <font color=7E87FC>The quotient rule</font>: $\\frac{d}{dx} (\\frac{u}{v}) = (v\\frac{du}{dx}-u\\frac{dv}{dx})/v^2$, $(\\frac{u}{v})' = \\frac{u'v - uv'}{v^2}$.\n",
    "### <font color=7E87FC>The chain rule</font>: если $y=f(u(x))$ и $u=u(x)$, то $\\frac{dy}{dx}=\\frac{dy}{du}\\frac{du}{dx}$.\n",
    "### <font color=7E87FC>The generalized power rule</font>: $\\frac{dy^n}{dx} = ny^{n-1}\\frac{dy}{dx}, \\forall n \\neq 0$.\n",
    "### <font color=7E87FC>Useful equations</font>: \n",
    "### $a^x = e^{x \\ln a}$\n",
    "### $\\ln(ab) = \\ln a + \\ln b$\n",
    "### $e^x = lim_{n \\to \\infty}(1+x/n)^n$\n",
    "### $\\lim_{x \\to 0} \\frac{sin x}{x} = 1$\n",
    "### $\\frac{d}{dx}e^u = e^u \\frac{du}{dx}$\n",
    "### $\\lim_{x\\to 0}(1+x)^k = 1+kx, \\forall k$\n",
    "### $lim_{x \\to \\infty} (\\ln x/x^r) = 0, \\forall r>0$\n",
    "### $\\frac{d}{dx}ln u = \\frac{u'}{u}$\n",
    "### $\\frac{da^u}{dx} = (a^u ln a)\\frac{du}{dx}$\n",
    "### $\\frac{d}{dx}sin x = cos x$, $\\frac{d}{dx}cos x = -sin x$, $\\frac{d}{dx} tan x = sec^2 x$"
   ]
  },
  {
   "cell_type": "markdown",
   "id": "d0c88a84-c959-4a84-854c-11f74424556b",
   "metadata": {},
   "source": [
    "### Найти производную $y = \\ln x^{\\ln x}$. Пусть $u = \\ln y = \\ln(\\ln x^{\\ln x} = \\ln x \\times \\ln(\\ln x)$. Применяем chain and product rules: $\\frac{du}{dx} = \\frac{d(\\ln y)}{dx} = \\frac{1}{y} \\frac{dy}{dx} = \\frac{d(\\ln x)}{dx}  \\times \\ln(\\ln x) + \\ln x \\times \\frac{d(\\ln(\\ln x))}{dx} \\ldots $... ёбнешься – запутаться можно!"
   ]
  },
  {
   "cell_type": "markdown",
   "id": "f6c25a85-c360-461b-9bdb-d0473480adae",
   "metadata": {},
   "source": [
    "### <font color=7E87FC>Maximum and minimum</font>. Производная $f'(x)$ – это наклон касательной к кривой $y=f(x)$, или же мгновенная скорость изменения $y$ по отношению к $x$. В точке $x=c$, если $f'(c)>0$, $f(x)$ – возрастающая функция в $c$, и наоборот.\n",
    "### <font color=7E87FC>Local maximum and minimum</font>. Допустим, $f(x)$ – дифференцируемая функция в точке $c$ и определена на интервале, содержащем эту точку. Если $f(c)$ является локальным максимум или минимумом, то $f'(c) = 0$ в этой точке.\n",
    "### <font color=7E87FC>Second Derivative test</font>. Допустим, двойная производная $f\"(x)$, непрерывна вокруг точки $c$. Если $f'(c) = 0$ и $f\"(c) > 0$, то $f(x)$ – локальный минимум в точке $c$, и наоборот.\n",
    "### Что больше – $e^{\\pi}$ или $\\pi^{e}$? Возьмём натуральные логарифмы от обоих: в первом случае будет $\\pi \\ln e$, во втором $e \\ln \\pi$. Если $e^{\\pi}>\\pi^e$, то $e^{\\pi}>\\pi^e \\Leftrightarrow \\pi \\cdot \\ln e > e \\cdot \\ln \\pi \\Leftrightarrow \\frac{\\ln e}{e} > \\frac{\\ln \\pi}{\\pi}$ (поделили обе стороны на $e \\pi$).\n",
    "### Правда ли это? Это зависит от того, возрастающая или убывающая от $e$ до $\\pi$ функция $f(x) = \\frac{\\ln x}{x}$. Возьмём производную: $f'(x) = \\frac{1/x \\cdot x - \\ln x}{x^2} = \\frac{1 - \\ln x}{x^2}$, и это $<0$ при $x>e$, то есть  $(\\ln x > 1)$. На самом деле у $f(x)$ глобальный максимум, когда $x=e, \\forall x > 0$, то есть $\\frac{\\ln e}{e} > \\frac{\\ln \\pi}{\\pi}$ и $e^{\\pi}>\\pi^e$."
   ]
  },
  {
   "cell_type": "markdown",
   "id": "149ebbc2-5f58-4a33-a9c6-605bed201568",
   "metadata": {},
   "source": [
    "### <font color=7E87FC>L'Hospital's rule</font> (правило Лопиталя). Допустим, функция $f(x)$ и $g(x)$ дифференцируются в $x \\rightarrow a$ и что $\\lim_{x \\to a} g'(a) \\neq 0$ (то есть у $g(x)$ в точке, стремящейся к $a$ нет экстремума там). Далее предположим, что $\\lim_{x \\to a} f(a) = 0$ и $\\lim_{x \\to a}g(a) = 0$ или что $\\lim_{x\\to a}f(a) \\to \\pm \\infty$ и $\\lim_{x\\to a}g(a) \\to \\pm \\infty$, тогда $\\lim_{x\\to a}\\frac{f(x)}{g(x)} = \\lim_{x\\to a} \\frac{f'(x)}{g'(x)}$. Правило Лопиталя конвертирует предел из неопределённой формы в определённую форму – метод нахождения пределов функций, раскрывающий неопределённости вида $0/0$, $\\infty / \\infty$. \n",
    "### <font color=7E87FC>Итог</font>: при некоторых условиях предел отношений функций равен пределу отношения их производных.\n",
    "### Например, $\\lim_{x \\to \\infty}e^x/x^2$ и $\\lim_{x\\to 0}x^2 \\ln x$?\n",
    "### $\\lim_{x \\to \\infty}\\frac{e^x}{x^2} = \\lim_{x \\to \\infty}\\frac{e^x}{2x} = \\infty$. Поскольку снова $e^x$ стремится к $\\infty$ и с $2x$ то же самое, то можно применить правило Лопиталя ещё раз: $\\lim_{x \\to \\infty}\\frac{e^x}{2} = \\infty$.\n",
    "### С первого взгляда, правило Лопиталя неприменимо к $\\lim_{x \\to 0} x^2 \\ln x$, но можно переписать $\\lim_{x \\to \\infty}\\frac{\\ln x}{x^{-2}}$. $\\lim_{x\\to 0} x^{-2} = \\infty$ и $\\lim_{x\\to 0}\\ln x = \\infty$, и мы можем применить правило Лопиталя и получить $0$.\n",
    "<hr>"
   ]
  },
  {
   "cell_type": "markdown",
   "id": "fd3ddff0-ba48-4a10-a193-0db566773067",
   "metadata": {},
   "source": [
    "## <font color=7E87FC>3.2 Integration</font>.\n",
    "### Если мы можм найти функцию $F(x)$ с производной $f(x)$, то функция $F(x)$ – первбообразная от $f(x)$ (antiderivative).\n",
    "### Если $f(x) = F'(x)$, то $\\int_{a}^b f(x) = \\int_{a}^b F'(x)dx = [F(x)]_a^b = F(b) - F(a)$\n",
    "### $\\frac{dF(x)}{dx} = f(x), F(a)y_a \\Rightarrow F(x) = y_a + \\int_a^x f(t)dt$.\n",
    "### <font color=7E87FC>Generalized power rule in reverse</font>: $\\in u^k du = \\frac{u^{k+1}}{k+1}+c, (k \\neq 1)$, где $c$ – некая константа.\n",
    "### <font color=7E87FC>Integration by substitution</font>: $\\int{f(g(x))\\cdot g'(x)dx} = \\int f(u)du$, где $u=g(x), du=g'(x)dx$.\n",
    "### <font color=7E87FC>Substitution in definite intergrals</font>: $\\int_a^b f(g(x)) \\cdot g'(x)dx = \\int_{g(a)}^{g(b)} f(u)du$.\n",
    "### <font color=7E87FC>Integration by parts</font>: $\\int udv = uv - \\int vdu$"
   ]
  },
  {
   "cell_type": "markdown",
   "id": "c466ca11-5725-4d85-bfd5-aaf2d6e3b680",
   "metadata": {},
   "source": [
    "### > Найти интеграл от $\\ln{x}$. Пусть $u=\\ln{x}$, $v=x$, у нас есть $d(uv) = vdu + udv = (x+1/x)dx+\\ln{xdx}$, \n",
    "### $\\therefore \\int \\ln{x}dx = x \\ln{x} - \\int dx = x \\ln{x} - x + c$, где $c$ – некая константа.\n",
    "### $\\sec{x}$ (секанс) – отношение, обратное косинусу (отношение гипотенузы к прилежащему к углу катету). В производных надо запомнить две основные: $\\frac{d \\cos{(x)}}{dx} = - \\sin{(x)}$ и $\\frac{d \\sin{(x)}}{dx} = \\cos{(x)}$.\n",
    "### Интеграция широко используется для вычисления безусловного или условного ожидаемого значения непрерывных случайных величин.\n",
    "### Если $X$ – стандартная нормальная случайная влеичина, $X \\sim N(0,1)$, то какой будет $E[X|X>0]$.\n",
    "### Поскольку $X\\sim N(0,1)$, pdf $= f(x) = \\frac{1}{\\sqrt{2\\pi}}e^{-1/2x^2}$, и у нас есть $E[X|X>0] = \\int_{0}^{\\infty} xf(x)dx = \\int_0^{\\infty} x\\frac{1}{\\sqrt{2\\pi}}e^{-1/2x^2}dx \\ldots$ slojno pizdec.\n",
    "<hr>"
   ]
  },
  {
   "cell_type": "markdown",
   "id": "ea44d33a-61e1-45ff-a300-78b0c97c5c02",
   "metadata": {},
   "source": [
    "## <font color=7E87FC>3.3 Partial Derivatives and Multiple Integrals</font>.\n",
    "### <font color=7E87FC>Partial derivative</font>: $w = f(x,y) \\Rightarrow \\frac{\\delta f}{\\delta x} (x_0, y_0) = \\lim_{\\Delta x \\to 0}\\frac{f(x_0 + \\Delta x,y_0)-f(x_0,y_0)}{\\Delta x} = f_x$\n",
    "### <font color=7E87FC>Second order partial derivatives</font>: $\\frac{\\delta^2 f}{\\delta x^2} = \\frac{\\delta}{\\delta x}(\\frac{\\delta f}{\\delta x})$, $\\frac{\\delta^2 f}{\\delta x \\delta y} = \\frac{\\delta}{\\delta x} (\\frac{\\delta f}{\\delta y}) = \\frac{\\delta}{\\delta y}(\\frac{\\delta f}{\\delta x})$.\n",
    "### <font color=7E87FC>General chain rule</font>: допустим, у нас есть $w=f(x_1,x_2, \\ldots, x_m$) и каждая переменная – функция переменных $t_1, t_2, \\ldots, t_n$. Если все функции непрерывно дифференцируемы (первого порядка), то $\\frac{\\delta w}{\\delta t_i} = \\frac{\\delta w}{\\delta x_1}\\frac{\\delta x_1}{\\delta t_i} + \\frac{\\delta w}{\\delta x_2}\\frac{\\delta x_2}{\\delta t_i} \\ldots + \\frac{\\delta w}{\\delta x_m}\\frac{\\delta x_m}{\\delta t_i}, \\forall i, 1≤i≤n$.\n",
    "### <font color=7E87FC>Changing Cartesian intergrals into polar integrals</font>: переменные в двухмерном пространстве могут быть отображены в полярных координатах $x = r \\cos{(B)}$ и $y = r \\sin{(B)}$. Интегрирование в непрерывной полярной области R преобразуется в: $\\int_R \\int f(x,y)dxdy = \\int_R \\int f(r \\cos{(\\theta)}, r\\sin{(\\theta)}dr d\\theta$.\n",
    "<hr>"
   ]
  },
  {
   "cell_type": "markdown",
   "id": "c8783dc4-6877-4ffa-ae2c-9db5a7229934",
   "metadata": {},
   "source": [
    "## <font color=7E87FC>3.4 Important Calculus Methods</font>.\n",
    "### <font color=7E87FC>Taylor's series</font>. Одномерные ряды Тейлора раскладывают функцию $f(x)$ как сумму рядов, используя производные в точках $x=x_0$. $f(x) = f(x_0) + f'(x_0)(x-x_0) + \\frac{f\"(x_0)}{2!}(x-x_0)^2 + \\ldots + \\frac{f^(n)(x_0)}{n!}(x-x_0)^n + \\ldots$\n",
    "### Если $x_0 = 0, f(x) = f(0) + f'(0)x + \\frac{f\"(0)}{2!}x^2 + \\ldots + \\frac{f^{(n)}(0)}{n!}x^n + \\ldots$\n",
    "### Часто используется для представления функции в виде степенных рядов. Например, вот 3 ряда Тейлора для трёх функций:\n",
    "### $e^x = \\sum_{n=0}^{\\infty} \\frac{1}{n!} = 1 + \\frac{x}{1!} + \\frac{x^2}{2!} + \\frac{x^3}{3!} + \\ldots$,\n",
    "### $sin(x) = \\sum_{n=0}^{\\infty}\\frac{(-1)^n x^{2n+1}}{(2n+1)!} = x - \\frac{x^3}{3!} + \\frac{x^5}{5!} - \\frac{x^7}{7!} + \\ldots$,\n",
    "### $cos(x) = \\sum_{n=0}^{\\infty}\\frac{(-1)^n x^{2n}}{(2n)!} = 1 - \\frac{x^2}{2!} + \\frac{x^4}{4!} - \\frac{x^6}{6!} + \\ldots$.\n",
    "### <font color=7E87FC>Newton's method</font> – итерационный процесс решения уравнения $f(x)=0$. Начинается с $x_0$ и идёт шагами $x_{n+1}=x_n - \\frac{f(x_n)}{f'(x_n)}$, чтобы решить $f(x) = 0$, если $x_1, x_2, \\ldots$ сходятся.\n",
    "### Например, решим $x^2 = 37$ до третьей цифры.\n",
    "### Пусть $f(x) = x^2 - 37$, $x_0 = 6$, например. $x_1 = x_0 - \\frac{f(x_0)}{f'(x_0)} = x_0 - \\frac{x_0^2 - 37}{2x} = 6 - \\frac{36-37}{2\\cdot 6} = 6.083$\n",
    "### $6.083^2 = 37.00289$, что достаточно близко.\n",
    "### Можно напрямую применить ряды Тейлора для функции $f(x) = \\sqrt{x}$ с $f'(x) = \\frac{1}{2} x^{-\\frac{1}{2}}$:\n",
    "### $f(37) \\approx f(36) + f'(36)(37-36) = 6+\\frac{1}{12} = 6.083$\n",
    "### Либо же тупо представить в виде $(6+y)^2 = 37 \\Rightarrow y^2 + 12y -1 = 0$."
   ]
  },
  {
   "cell_type": "markdown",
   "id": "a3060228-304d-433b-b1bb-4b7568e619c8",
   "metadata": {},
   "source": [
    "### <font color=7E87FC>Largrange Multipliers</font> – частый метод для поиска экстремумов в многомерных (multivariate) функциях с одним или несколькими ограничениями.\n",
    "### Пусть $f(x_1,x_2,\\ldots,x_n)$ – функция $n$ переменных $x=(x_1,x_2,\\ldots,x_n)$ с градиентным вектором $\\triangledown f(x) = \\langle \\frac{\\delta f}{\\delta x_1}, \\frac{\\delta f}{\\delta x_2}, \\cdots, \\frac{\\delta f}{\\delta x_n}\\rangle$. Необходимое условие максимизации или минимизации $f(x)$ с учетом набора $k$ ограничений $g_1(x_n) = 0, g_2(x_n)=0, \\ldots, g_k(x_n)=0$ заключается в том, что $\\triangledown f(x) + \\lambda_1 \\triangledown g_1(x) + \\lambda_2 \\triangledown g_2(x) + \\ldots + \\lambda_k \\triangledown g_k (x)=0$, где $\\lambda_n$ – множители Лагранжа.\n",
    "<hr>"
   ]
  },
  {
   "cell_type": "markdown",
   "id": "26a6ccb0-90b2-46d2-b120-37a42e9c3a7f",
   "metadata": {},
   "source": [
    "## <font color=7E87FC>3.6 Linear Algebra</font>."
   ]
  },
  {
   "cell_type": "markdown",
   "id": "70fbba45-df05-4865-983a-cf8e61b55710",
   "metadata": {},
   "source": [
    "### <font color=7E87FC>Vectors</font>. Столбец $n\\times 1$ – одномерный вектор. Он представляет собой координаты точки в $R^n$ (n-мерном) Евклидовом пространстве.\n",
    "### <font color=7E87FC>Innter product/dot product</font> двух $R^n$ векторов $x,y$ опр. как $\\sum_{i=1}^n x_iy_i = x^T y$.\n",
    "### <font color=7E87FC>Euclidean norm</font>: $\\lVert x\\rVert = \\sqrt{\\sum_{i=1}^n x_i^2} = \\sqrt{x^Tx}$; $\\lVert x-y\\rVert = \\sqrt{(x-y)^T(x-y)}$.\n",
    "### Угол $\\theta$ между $R^n$ векторами $x,y$ имеет такое свойство, что $cos \\theta = \\frac{x^T y}{\\lVert x \\rVert \\lVert x \\rVert}$. $x,y$ ортогональные, если $x^Ty = 0$. Коэффициент корреляции двух случайных величин можно рассматривать как косинус угла между ними в Евклидовом пространстве ($\\rho = cos \\theta$).\n",
    "# ...\n",
    "<hr>"
   ]
  },
  {
   "cell_type": "markdown",
   "id": "5a4e084f-8f15-461c-a4b5-dc7be3c677d9",
   "metadata": {},
   "source": [
    "# <font color=7E87FC>4. Theory of Probability</font>.\n",
    "<hr>"
   ]
  },
  {
   "cell_type": "markdown",
   "id": "435723ee-943e-43dd-be0a-036329db01fc",
   "metadata": {},
   "source": [
    "## <font color=7E87FC>4.1 Basic Probability Definitions and Set Operations</font>.\n",
    "### <font color=7E87FC>Outcome</font> ($\\omega$) – исход определённого эксперимента.\n",
    "### <font color=7E87FC>Sample/Probability space</font> ($\\Omega$) – совокупность всех возможных исходов эксперимента. \n",
    "### $P(\\omega)$ – вероятность исхода ($P(\\omega) ≥ 0, \\forall \\omega \\in \\Omega, \\sum_{\\omega \\in \\Omega} P(\\omega) = 1$).\n",
    "### <font color=7E87FC>Event</font> – набор исходов и подмножество выборочного пространства. \n",
    "### $P(A)$ – вероятность события $A$, $P(A) = \\sum_{\\omega \\in A} P(\\omega)$;\n",
    "### $A \\cup B$ – либо $A$, либо $B$, либо оба;\n",
    "### $A \\cap B$ – и $A$, и $B$;\n",
    "### $A^c$ – \"не $A$\".\n",
    "### <font color=7E87FC>Mutually Exclusive</font>: $A \\cap B = \\Phi$, где $\\Phi$ – пустое множество. Для взаимноисключающих событий $E_1, E_2, \\ldots, E_N, P(\\bigcup_{i=1}^N E_i) = \\sum_{i=1}^N P(E_i)$.\n",
    "### <font color=7E87FC>Random Variable</font>. Функция, которая отображает каждое событие ($\\omega$) в выборочном пространстве ($\\Omega$) в набор действительных чисел ($\\mathbb{R}$)."
   ]
  },
  {
   "cell_type": "markdown",
   "id": "0d9d8652-03aa-406e-a9cf-f8fb581766c7",
   "metadata": {},
   "source": [
    "### Игральная кость. Бросок имеет 6 возможных результатов ($\\Omega = ${1,2,3,4,5,6}), и вероятность каждого исхода $=\\frac{1}{6}$. Пусть $A$ – нечётные числа ($A=${1,3,5}), тогда чётные $A^c$ = {2,4,6}. Очевидно, что $P(A) = P(1) + P(2) + P(3) = \\frac{1}{2}$. Пусть $B$ – событие такое, что исход броска $>3$ ($B=${4,5,6}). Тогда $A \\cup B =${1,3,4,5,6} и $A \\cap B$={5}. Популярная случайная переменная, называемая <font color=7E87FC>индикаторной переменной</font> (бинарная фиктивная переменная) для события $A$ опр. следующим образом: \n",
    "### $I_A = \\begin{cases} 1, if x\\in \\{ 1,3,5\\}, \\\\ 0, if x \\notin \\{ 1,3,5\\} \\end{cases}$\n",
    "### Грубо говоря, $I_A=1$ при наступлении $A$ и $I_A=0$ при $A^c$. Матожидание $E[I_A]=P(A)$.\n",
    "<hr>"
   ]
  },
  {
   "cell_type": "markdown",
   "id": "ca093703-1fec-4349-a256-9a4fb0e7ae9f",
   "metadata": {},
   "source": [
    "### <font color=7E87FC>Coin toss game</font>. У игрока А $(n+1)$ монет, у игрока B – $n$ монет. Какова вероятность, что у А выпадет больше орлов, чем у B?\n",
    "### Мысленно уберём одну монету у А и сделаем ситуацию симметричной. Есть три возможных исхода:\n",
    "### $E_1$: среди $n$ монет А больше орлов, чем среди $n$ монет В;\n",
    "### $E_2$: одинаково;\n",
    "### $E_3$: у А меньше, чем у В.\n",
    "### Учитывая симметрию, вероятность того, что у А больше орлов, равна вероятности того, что у В больше орлов. $P(E_1) = P(E_3) = x$, $P(E_2) = y$. Поскольку $\\sum_{\\omega \\in \\Omega} P(\\omega) = 1$, у нас $2x+y = 1$. При событии $E_1$ у $A$ всегда будет больше орлов, тем более при изначальном $n+1$, а при событии $E_3$ – у А будет орлов не больше, чем у В, независимо от того, какая $n+1$ монета у А. Таким образом, $n+1$-я монета повышает вероятность того, что у А больше орлов, чем у В, на $0.5y$, и полная вероятность того, что у А больше орлов: $x+0.5y = x+0.5(1-2x) = 0.5$.\n",
    "<hr>"
   ]
  },
  {
   "cell_type": "markdown",
   "id": "976ff694-173c-4087-ad41-e3331ce66759",
   "metadata": {},
   "source": [
    "### <font color=7E87FC>Card game</font>. Игра в казино. Есть 52 карты в колоде по 4 каждого значения $2,3,4,5,6,7,8,9,10,J,Q,K,A$. Каждый раз карты тщательно перемешивают (чтобы каждая карта имела равную вероятность быть пикнутой). Мы берём одну карту из колоды, а дилер берёт другую. Если у нас большее число, то мы побеждаем; если числа равны, или наше меньше – house wins. Какова наша вероятность выиграть?\n",
    "### Всего 13 возможных исходов, с вероятностью $\\frac{1}{13}$ каждая. С картой 2 вероятность выиграть равна нулю; с картой 3 вероятность выиграть равна $\\frac{4}{51}$ (когда дилер пикает 2), с картой A вероятность выиграть равна $\\frac{48}{51}$ (дилер пикает любую другую карту, кроме А). Таким образом, вероятность выигрыша равна: $\\frac{1}{13}\\times (\\frac{0}{51} + \\frac{4}{51} + \\ldots + \\frac{48}{51}) = \\frac{4}{13\\times 51}\\times (0+1+\\ldots+12) = \\frac{4}{13\\times 51} \\times \\frac{12\\times 13}{2} = \\frac{8}{17}$.\n",
    "### Ещё один способ – как в задаче про монету:\n",
    "### $E_1$: наша карта больше, чем у дилера;\n",
    "### $E_2$: наша карта равна дилерской;\n",
    "### $E_3$: наша карта меньше, чем у дилера.\n",
    "### Симетрия: $P(E_1) = P(E_3)$. То есть нам снова нужно найти $P(E_2)$, вероятность того, что карты равны. С каждой рандомно пикнутой картой вероятность того, что у дилера такая же будет $\\frac{3}{51}$. В результате имеем $P(E_1) = (1-P(E_2))/2 = (1-\\frac{3}{51})/2 = \\frac{8}{17}$.\n",
    "<hr>"
   ]
  },
  {
   "cell_type": "markdown",
   "id": "25df8d78-f9db-4024-82bf-e9b3318cf08d",
   "metadata": {},
   "source": [
    "### <font color=7E87FC>Drunk passenger</font>. Очередь из 100 пассажиров ждут посадки в самолёт, у каждого из них есть билет на одно из 100 мест на этом рейсе. Для удобства: $n$-й персонаж имеет билет на $n$-е место в самолёте. Будучи пьяным, первый пассажир случайно сел на рандомное место (с одинаковой вероятностью сесть на любое из $n$ мест в самолёте). Остальные трезвые и сядут по своим билетам, только если оно не будет занято. Тогда пассажир садится на другое рандомное место. Мы пассажир №100. Какая вероятность того, что мы сядем на своё место (№100)?\n",
    "### Рассмотрим места №1 и №100. Есть два возможных исхода:\n",
    "### $E_1$: место №1 занято до №100;\n",
    "### $E_2$: место №100 занято до №1.\n",
    "### Если место какой-либо пассажир займёт №100 до того, как будет занято №1, мы точно не окажемся на своём месте. Но если займут №1 до того, как будет занято место №100, мы окажемся на своём месте. По симмметрии вероятность исходов будет 0.5.\n",
    "<hr>"
   ]
  },
  {
   "cell_type": "markdown",
   "id": "0b260e4b-60b8-466a-a86f-792b385635cc",
   "metadata": {},
   "source": [
    "## <font color=7E87FC>4.2 Combinatorial Analysis</font>."
   ]
  },
  {
   "cell_type": "markdown",
   "id": "b94ab364-b440-4f36-a6b4-9cce160f808b",
   "metadata": {},
   "source": [
    "### <font color=7E87FC>Basic principle of counting</font>. Пусть $S$ будет набором длиной $k$. Также у нас $n_1$ возможных первых входных записей (first entries), $n_2$ возможных вторых записей для каждой первой записи, $n_3$ возможных третьих записей для первой и второй записей и т.д. Тогда у нас $n_1\\cdot n_2 \\cdots n_k$ возможных исходов.\n",
    "### <font color=7E87FC>Permutation</font> (перестановки). Перестановка объектов в конкретную последовательность (то есть порядок ВАЖЕН), будет $\\frac{n!}{n_1! n_2! \\ldots n_r!}$ возможных комбинаций перестановок $n$ объектов.\n",
    "### <font color=7E87FC>Combination</font>. Перестановка объектов, когда порядок не важен, будет $\\begin{pmatrix} n \\\\ r \\end{pmatrix} = \\frac{n!}{(n-r)!r!}$ разных комбинаций $n$ объектов, и из них берём $r$ за раз.\n",
    "### <font color=7E87FC>Binominal theorem</font>: $(x+y)^n = \\sum_{k=0}^n \\begin{pmatrix} n \\\\ k \\end{pmatrix} x^k y^{n-k}$.\n",
    "### <font color=7E87FC>Inclusion-Exclusion Principle</font>: $P(A \\cup B) = P(A) + P(B) - P(A \\cap B)$, $P(A\\cup B \\cup C) = P(A) + P(B) + P(C) - P(A\\cap B) - P(A\\cap C) - P(B\\cap C) + P(A \\cap B \\cap C)$, где $\\sum_{i_1<i_2<i_3} P(E_{i1} E_{i2},\\cdots E_{ir}$ has $\\begin{pmatrix} N \\\\ r \\end{pmatrix}$ terms.\n",
    "<hr>"
   ]
  },
  {
   "cell_type": "markdown",
   "id": "5fb87de3-7f7a-458c-a309-f8d8563888b4",
   "metadata": {},
   "source": [
    "### <font color=7E87FC>Poker hands</font>. В покере каждый игрок получает на руки 5 карт. Есть 52 карты в колоде, и у каждой карты помимо значения (value) есть масть (suit).\n",
    "<img src='https://sun9-8.userapi.com/impg/_zuKhsFYQG2Sk8CZ9BYTOGjdAWnsJWdnmeCPQw/Hh4QyrXlDuU.jpg?size=1198x80&quality=96&sign=a00a59cce934f3633c6dc6eda03284c2&type=album'>"
   ]
  },
  {
   "cell_type": "markdown",
   "id": "731a64cb-ee57-48f0-b279-6db3652368cf",
   "metadata": {},
   "source": [
    "### Какова вероятность получить каре (four of a kind – 4 карты одного и того же значения)? Карты с фулл хаусом (3 карты одного значения и 2 другого)? Карты с двумя парами (одинаковые values, но разные suits могут быть)? \n",
    "### Комбинаторикой получим количество комбинаций 5 subsets из 52-element set. $\\begin{pmatrix} 52 \\\\ 5\\end{pmatrix} = 2,598,960$.\n",
    "### 1. Каре (Four-of-a-kind): сперва мы можем пикнуть карту одного значения из возможных мастей – у нас 13 вариантов. Пятой картой может быть любая из оставшихся 48 карт (12 вариантов номинала и 4 варианта масти). Таким образом, количество комбинаций с каре равно $13 \\cdot 48 = 624$.\n",
    "### 2. Фулл-хаус (Full House): по порядку нам надо пикнуть значение тройки = 13 вариантов; масть тройки = $\\begin{pmatrix} 4 \\\\ 3\\end{pmatrix}$; значение пары = 12 вариантов; масть пары = $\\begin{pmatrix} 4 \\\\ 2\\end{pmatrix}$. Таким образом, перемножаем всё это и получаем $= 13 \\cdot 4 \\cdot 12 \\cdot 6 = 3,744$.\n",
    "### 3. Две пары (Two Pairs): по порядку нам надо пикнуть значения пары = $\\begin{pmatrix} 13 \\\\ 2\\end{pmatrix}$; масти для первой пары = $\\begin{pmatrix} 4 \\\\ 2\\end{pmatrix}$; масти второй пары = $\\begin{pmatrix} 4 \\\\ 2\\end{pmatrix}$; и оставшаяся карта = 44 ($52 - 4 \\cdot 2$), поскольку последняя карта не может иметь то же значение, что одно из тех, что в паре. Таким образом, перемножаем это и получаем = $78 \\cdot 6 \\cdot 6 \\cdot 44 = 123,552$.\n",
    "<hr>"
   ]
  },
  {
   "cell_type": "markdown",
   "id": "1b6b4ced-a769-457c-9608-e8d550c4cb73",
   "metadata": {},
   "source": [
    "## <font color=7E87FC>4.3 Conditional Probability and Bayes' formula</font>.\n",
    "### <font color=7E87FC>Conditional probability</font>. $P(A|B)$: если $P(B)>0$, тогда $P(A|B) = \\frac{P(A\\cap B)}{P(B)}$ – доля $B$ исходов, которые также и $A$ исходы.\n",
    "### <font color=7E87FC>Multiplication rule</font>: $P(E_1E_2\\cdots E_n) = P(E_1)P(E_2|E_1)P(E_3|E_1E_2)\\cdots P(E_n|E_1\\cdots E_{n-1})$.\n",
    "### <font color=7E87FC>Law of total probability</font>. Для взаимноисключающих событий $\\{ F_i\\}, i=1,2,\\cdots, n$, объединение которых представляет собой целое выборочное пространство $(F_i \\cap F_j = \\Phi, \\forall i \\neq j; \\bigcup_{i=1}^n F_i = \\Omega$, мы имеем $P(E) = P(EF_1) + P(EF_2) + \\cdots + P(EF_n) = \\sum_{i=1}^n P(E|F_i)P(F_i) = P(E|F_1) P(F_1) + P(E|F_2)P(F_2) + \\cdots + P(E|F_n)$.\n",
    "### <font color=7E87FC>Independent events</font>. $P(EF) = P(E)P(F) \\Rightarrow P(EF^c)=P(E)P(F^c)$.\n",
    "### <font color=7E87FC>Bayes' formula</font>. $P(F_j|E) = \\frac{P(E|F_j)P(F_j)}{\\sum_{i=1}^nP(E|F_i)P(F_i)}$, если $F_i, i=1,\\cdots,n$ взаимноисключающие событие, объединяемые в целое выборочное пространство.\n",
    "<hr>"
   ]
  },
  {
   "cell_type": "markdown",
   "id": "1d4cf664-01fc-4d9f-904d-0c8d63a11ba8",
   "metadata": {},
   "source": [
    "## <font color=7E87FC>4.4 Discrete and Coninuous Distributions</font>.\n",
    "### <font color=7E87FC>Common function of random variables</font>.\n",
    "<img src='https://sun9-2.userapi.com/impg/mUaV5KnflDC7arpRvlWLO8ngkNXNB_EqW7JErg/Xw6RAoEw9Mk.jpg?size=1280x712&quality=96&sign=29ca90000254b6ce82145eef0f247a27&type=album' width=400>"
   ]
  },
  {
   "cell_type": "markdown",
   "id": "81a7f609-9c94-48d2-967c-8e51a74f5b81",
   "metadata": {},
   "source": [
    "### <font color=7E87FC>Discrete random variables</font>:\n",
    "### <font color=7E87FC>Discrete uniform</font> (дискретное равномерное) – появление значения между $a,b$, когда все значения в наборе {$a, a+1, \\cdots, b$} имеют одинаковую вероятность прокнуться.\n",
    "### <font color=7E87FC>Binominal </font> (биноминальное) – количество успехов в последовательности $n$ экспериментов, где все попытки независимы друг от друга, и вероятность успеха $p$.\n",
    "### <font color=7E87FC>Poisson</font> (Пуассон) – количество событий, происходящих в фиксированный период времени с ожидаемым числом событий $\\lambda t$, когда события происходят с известной средней частотой $\\lambda$ и не зависят от времени, прошедшего с момента последнего события.\n",
    "### <font color=7E87FC>Geometric</font> (геометрическое) – количество экспериментов $n$ до наступления первого успеха, когда эксперименты независимы с вероятностью $p$.\n",
    "### <font color=7E87FC>Negative binominal</font> (отрицательное биноминальное) – количество попыток до получения $r$-го успеха, когда эксперименты независимы с вероятностью $p$.\n",
    "<img src='https://sun9-47.userapi.com/impg/BdBd0OjS_jtIH9uRoFG-5oO8yTY7ajuaQ2yOvg/68xJkACSMw8.jpg?size=1280x697&quality=96&sign=ae316c209e758c1d402167897fe4cacb&type=album' width=450>"
   ]
  },
  {
   "cell_type": "markdown",
   "id": "fe9b3450-533a-4536-8e37-8159276fe117",
   "metadata": {},
   "source": [
    "### <font color=7E87FC>Continuous random variables</font>:\n",
    "### <font color=7E87FC>Uniform distribution</font> – равномерное распрделеённые на интервале [a,b].\n",
    "### <font color=7E87FC>Normal/Gaussian distribution</font> – the most popular one due to the ЦПТ (центральная предельная теорема).\n",
    "### <font color=7E87FC>Exponential distribution</font> – моделирует время наступления события, если оно имеет постоянную частоту $\\lambda$.\n",
    "### <font color=7E87FC>Gamma distribution</font> с параметрами ($\\alpha, \\lambda$) как распределение количества времени, которое нужно ждать, пока не произойдёт в общей сложности $n$ событий.\n",
    "### <font color=7E87FC>Beta distribution</font> – для моделирования событий, которые ограничены определённым интервалом.\n",
    "<img src='https://sun9-9.userapi.com/impg/X-kQ2LAyMHTPuxNlvezvYAumlV3bxoW01D8mYw/hR5pye2Pigw.jpg?size=1280x649&quality=96&sign=93cdf247c496be32b522944633292af0&type=album' width=450>\n",
    "<hr>"
   ]
  },
  {
   "cell_type": "markdown",
   "id": "83d33ff5-8f6a-455b-8f5f-bd2954ef3a72",
   "metadata": {},
   "source": [
    "## <font color=7E87FC>4.5 Expected Value, Variance & Covariance</font>."
   ]
  },
  {
   "cell_type": "markdown",
   "id": "8df23e44-07b0-4218-9104-0c831be385cc",
   "metadata": {},
   "source": [
    "### Если $E[X_i]$ конечное $\\forall i = 1,\\cdots, n$, то $E[X_1 + \\cdots + X_n] = E[X_1] + \\cdots + E[X_n]$, причём работает, когда $x_i$ независимы друг от друга.\n",
    "### Если $X,Y$ независимы, то $E[g(X)h(Y)] = E[g(x)]E[h(Y)]$."
   ]
  },
  {
   "cell_type": "markdown",
   "id": "3aea2dad-7b28-4390-b2b1-369fe2ee550c",
   "metadata": {},
   "source": [
    "### <font color=7E87FC>Covariance</font>. $Cov(X,Y) = E[(X-E[X])(Y-E[Y])] = E[XY]-E[X]E[Y]$.\n",
    "### <font color=7E87FC>Correlation</font>. $\\rho(X,Y) = \\frac{Cov(X,Y)}{\\sqrt{Var(X)Var(Y)}}$. Если $X,Y$ независимы, то $Cov(X,Y) = 0$ и $\\rho(X,Y) = 0$.\n",
    "### <font color=7E87FC>General rules of variance and covariance</font>: $Cov(\\sum a_iX_i, \\sum_jY_j) = \\sum \\sum a_ib_j Cov(X_i, Y_j)$;\n",
    "### $Var(\\sum X_i) = \\sum Var(X_i) + 2 \\sum \\sum Cov(X_i, X_j)$.\n",
    "<hr>"
   ]
  },
  {
   "cell_type": "markdown",
   "id": "e518c36f-faa0-4304-a97d-ec34eb69c3a4",
   "metadata": {},
   "source": [
    "# <font color=7E87FC>5. Stochastic Processes</font>.\n"
   ]
  },
  {
   "cell_type": "markdown",
   "id": "220c80b8-79ec-423b-be35-aaee70625e54",
   "metadata": {},
   "source": [
    "## <font color=7E87FC>Markov Chain</font>.\n",
    "### <font color=7E87FC>Markov chain</font> – это последовательность случайных величин $X_n$ с марковскими свойствами (если условное распределение вероятностей будущих состояний процесса зависит только от нынешнего состояния, а не от последовательности событий, которые предшествовали этому $\\rightarrow$ the future states and the past states are independent): $P\\{X_{n+1} = j|X_n = i, X_{n-1}, \\cdots, X_0 = i_0 \\} = p_{ij} = P \\{X_{n+1} = j | X_n = i \\}, \\forall n, i_0, \\cdots, i_{n-1}, i,j$ и $i,j \\in \\{1,2,\\cdots, M\\}$ представляют собой пространство $S = \\{ s_1, s_2, \\ldots, s_M\\}$ иксов.\n",
    "### Другими словами, как только известно текущее состояние, прошлые состояния уже не влияют на будущее.\n",
    "### <font color=7E87FC>Transition matrix</font>: $P = \\{ p_{ij}\\} = \\begin{bmatrix} p_{11} & p_{12} & \\ldots & p_{1M} \\\\ p_{21} & p_{22} & \\ldots & p_{2M} \\\\ \\vdots & \\vdots & \\vdots & \\vdots \\\\ p_{M1} & p_{M2} & \\ldots & p_{MM}\\end{bmatrix}$, где $p_{ij}$ – переход вероятности из состояния $i$ в $j$.\n",
    "### <font color=7E87FC>The probability of the path</font> – поэтапное перемножение вероятностей перехода из матрицы выше.\n",
    "<img src='https://sun9-88.userapi.com/impg/tKFijUZjExzYq7ES4jHiy1GZCGaS8KjWbgjJTA/vkcrcmD6FV0.jpg?size=1256x500&quality=96&sign=1062c6ccf2f0069a728601ee58165a13&type=album' width = 500>"
   ]
  },
  {
   "cell_type": "markdown",
   "id": "5153d4e4-febf-4039-a829-4fc3e3cc9701",
   "metadata": {},
   "source": [
    "### <font color=7E87FC>Classicifaction of states</font>. \n",
    "### Состояние $j$ доступно (accessible) из состояния $i$, если в графе переходов есть прямой (directed) путь такого перехода.\n",
    "### Состояния $i,j$ взаимодействуют (communicate), если $i$ доступно из $j$ и $j$ доступно $i$. Например, состояния 3 и 1 communicate на рисунке выше. Состояние 4 доступно из состояния 1, но они не communicate, так как состояние 1 недоступно из состояния 4.\n",
    "### Состояние $i$ рекуррентно (recurrent), если для каждого состояния $j$, достижимого из $i$, $i$ также достижимо из $j$. Состояние называется переходным (transient), если оно не является рекуррентным. Например, только состояние 4 рекуррентно. Состояния 1,2,3 переходные, т.к. состояние 4 достжимо из 1,2,3, но 1,2,3 не доступны из 4.\n",
    "### <font color=7E87FC>Absorbing Markov chains</font> (поглощающие цепи Маркова) – называется таким, если выйти из состояния $i$ невозможно. Марковская цепь поглощающая, если есть хотя бы одно поглощающее состояние (как, например, на рисунке выше).\n",
    "<hr>"
   ]
  },
  {
   "cell_type": "markdown",
   "id": "e1a6dbb4-4c90-4a84-bdd4-c1521a75c17a",
   "metadata": {},
   "source": [
    "## <font color=7E87FC>5.2 Martingale and Random walk</font>.\n",
    "### <font color=7E87FC>Random walk</font> – процесс $\\{S_n; n≥1 \\}$, если $\\{X_i; i≥1\\}$ являются IID (identical and independently distributed) случайными величинами и $S_n = X_1 + \\ldots + X_n$, где $n=1,2,\\cdots$.\n",
    "### Если $X_i$ принимает значения 1 и -1 с вероятностями $p$ и $1-p$ соответственно, то $S_n$ называется <font color=7E87FC>simple random walk</font> с параметром $p$. Если $p=\\frac{1}{2}$, то это <font color=7E87FC>symmetric random walk</font>. Для симметричного случайного блуждания $E[S_n]=0$ и $var(S_n) = n$.\n",
    "### <font color=7E87FC>Martingale</font> $\\{Z_n;n≥1\\}$ – стохачтический процесс со свойствами $E[|Z_n|] < \\infty, \\forall n$ и $E[Z_{n+1}|Z_n=z_n, Z_{n-1}=z_{n-1}, \\cdots, Z_1 = z_1] = z_n$. Условное матожидание будущего $Z_m$ – это текущее значение $Z_n$. \n",
    "### Markov means where go next depends at most on where we are now. Any process with independent increments has the Markov property, eg Brownian motion. Martingale means that we expect the future value to be the current value.\n",
    "### <font color=7E87FC>Stopping rule</font>: для эксперимента с набором IID случайных величин $X_1, X_2, \\ldots$, stopping rule для $\\{X_i; i≥1\\}$ это положительная целочисленная случайная величина $N$ (момент остановки) такая, что $\\forall n>1$, событие $\\{ N≤n\\}$ независимо от $X_{n+1}, X_{n+2}, \\ldots$. Грубо говоря, это говорит о том, что останавливаться ли на $n$, зависит только $X_1, X_2, \\ldots, X_n$ (т.е. no look ahead).\n",
    "### A martingale stopped at a stopping time is a martingale.\n",
    "<hr>"
   ]
  },
  {
   "cell_type": "markdown",
   "id": "848fdfaf-1088-47db-a48d-943f432946c1",
   "metadata": {},
   "source": [
    "## <font color=7E87FC>5.4 Brownian Motion and Stochastic Calculus</font>.\n",
    "### <font color=7E87FC>Brownian motion</font> – это непрерывный (no jumps) стохастический процесс $W(t), t≥0$, если: $W(0)=0$; increments (как движения) $W(t_1)-W(0), W(t_2)-W(t_1), \\cdots, W(t_n) - W(t_{n-1}), \\forall 0 ≤ t_1 ≤ t_2 ≤ \\cdots ≤ t_n$ независимы; каждое из increments нормально распределены: $W(t_{i+1})-W(t_i) \\sim N(0, t_{i+1}-t_i)$ (важно – само Броуновское движение может не быть нормально распределённым, а именно шаги будут).\n",
    "### Модель требует допущения о полной делимости активов и отсутствия трений на рынке (нет транзакционных издержек при совершении сделок на рынке). Броуновское движение также удовлетворяет свойствам Маркова и мартингалов.\n",
    "### <font color=7E87FC>Geometric Brownian motion</font> – это когда логарифм случайной величины подчиняется Броуновскому движению with drift.\n",
    "<hr>"
   ]
  },
  {
   "cell_type": "markdown",
   "id": "2eafd4d2-2783-4082-97b4-dee2c7143b94",
   "metadata": {},
   "source": [
    "## <font color=7E87FC>Ito's Lemma</font>\n",
    "### Важный момент для определения производной функции случайного процесса, зависящей от времени. Выполняет роль цепного правила. Гипер-важно для того, чтобы вывести уравнения Блэка-Шоулза для ценообразования опционов.\n",
    "### <font color=7E87FC>The Chain Rule</font> (цепное правило) позволяет рассчитать производную цепной функциональной композиции. Формально $W(t)$ является непрерывной функцией, если $dW(t) = \\mu(W(t),t)dt$. Цепное правило гласит: $d(f(W(t))) = f'(W(t))\\mu(W(t),t)dt$.\n",
    "### Когда $f$ имеет $t$ как прямой зависимый параметр, нам потребуются дополнительные члены и частные производные. В этом слуае цепное правило определяется следующим образом:\n",
    "### $d(f(W(t),t)) = (\\frac{\\delta f}{\\delta \\omega} (W(t),t)\\mu(W(t),t)+\\frac{\\delta f}{\\delta t}(W(t),t)dt$.\n",
    "### <font color=7E87FC>WIKI</font>: цепное правило позволяет вычислить производную композиции двух и более функций на основе индивидуальных производных. Если функция $f$ имеет производную в точке $x_0$, а функция $g$ имеет производную в точке $y_0 = f(x_0)$, то сложная функция $h(x) = g(f(x))$ также имеет производную в точке $x_0$. Но дефолтное цепное правило работает с нестохастическими процессами.\n",
    "### Чтобы правильно смоделировать распределение цен на активы логарифмически нормальным образом, стохастическая версия цепного правила будет использоваться для решения стохастического дифференциального уравнения, представляющего геометрическое броуновское движение.\n",
    "### Пусть $B(t)$ – Броуновское движение, а $W(t)$ – an Ito drift-diffusion process, который удовлетворяет стохастическому диффуру: ### $dW(t) = \\mu(W(t),t)dt + \\sigma(W(t),t)dB(t)$.\n",
    "### Если $f(w,t)\\in C^2(\\mathbb{R^2},\\mathbb{R})$, то $f(W(t),t)$ также является дрейфово-диффузным процессом Ито, а его дифференциал определяется выражением:\n",
    "### $d(f(W(t),t)) = \\frac{\\delta f}{\\delta t}(W(t),t)dt + f'(W(t),t)dW + \\frac{1}{2}f\"(W(t),t)dW(t)^2$, где $dW(t)^2$ опр. как $dt^2 = 0, dtdB(t) = 0, dB(t)^2 = dt$.\n",
    "<hr>"
   ]
  },
  {
   "cell_type": "markdown",
   "id": "01db3e70-0a0a-40b6-9e9b-114fa51ae2fb",
   "metadata": {},
   "source": [
    "# <font color=7E87FC>6. Finance</font>."
   ]
  },
  {
   "cell_type": "markdown",
   "id": "828a9eb9-96f4-4c87-a56c-bf26a1bd5e2a",
   "metadata": {},
   "source": [
    "## <font color=7E87FC>6.1 Option Pricing</font>.\n",
    "### Введём несколько обозначений: $T$ – maturity date; $t$ – the current time; $\\theta = T - t$ – time to maturity; $S$ – stock price at time $t$; $r$ – continuous risk-free rate; $y$ – continuous dividend yield; $\\sigma$ – annualized asset volatility; $c$ – price of a European call; $p$ – price of the European put; $C$ – American call; $P$ – American put; $D$ – present value, at $t$, of future dividends; $K$ – strike price; $PV$ – present value at $t$. \n",
    "### <font color=7E87FC>Price direction of options</font>. Как ведут себя ванильные (дефолтные) европейские/американцие опционы, когда меняются $S,K,\\theta,\\sigma,r,D$?\n",
    "### Payoff of a call option (прибыль от покупки инструмента) это $max(S-K,0)$, а у put-option это $max(K-S,0)$.\n",
    "### Интуитивно понимаем, что по мере роста strike price, цена опциона-колл будет расти.\n",
    "<img src='https://sun9-54.userapi.com/impg/2Fl7xzybnJnLf9UDp2cg34dLS6_8qOJBhLMkIg/oqrlmrOjZZw.jpg?size=1280x549&quality=96&sign=c32c5e94834041a85fd904b77efb3d75&type=album' width=400>"
   ]
  },
  {
   "cell_type": "markdown",
   "id": "b09769cf-3ef1-45ef-8934-ce6cb81d6c7c",
   "metadata": {},
   "source": [
    "### <font color=7E87FC>Put-call parity</font>. $c+K^{-rt} = p + S - D$, где европейский опцион-кол и опцион-пут имеют одинаковый базовый актив, одинаковую $T$ и $K$. Поскольку $p≥0$, мы можем также вывести границы для $c$: $S-D-K^{-rt} < c < S$ (из put-call parity). Для американских опционов, данное неравенство не будет работать, и оно станет двумя неравенствами: $S - D - K ≤ C - P ≤ S - K^{-rt}$.\n",
    "### <font color=7E87FC>Put-call parity</font> возникает ТОЛЬКО в случае европейских опционов!!! Также важно условие одинаковых характеристик бумаги и базового актива. Портфель длинного колл-опциона и короткого пут-опциона эквивалентен (и, следовательно, имеет ту же стоимость) одному форвардному контракту с этой ценой исполнения и сроком действия. Это связано с тем, что если цена на момент истечения срока выше цены исполнения, будет исполнен колл, а если она ниже, будет исполнен пут, и, таким образом, в любом случае будет куплена одна единица актива по цене исполнения, точно так же, как в форвардном контракте.\n",
    "### Попробуем сделать put-call parity с европейскими опционами на акции без дивидендных платежей: $c + K^{-rt} = p + S$. Мы можем трактовать левую часть уравнения как портфель $А$ — колл и облигацию с нулевым купоном номинальной стоимостью $К$, а правую часть — как портфель $В$ — пут и базовую акцию, которая является защитным путом. У обоих портфелей одинаковый payoff $= max(S_T, K)$ в момент $T$. No-arbitrage argument.\n",
    "<hr>"
   ]
  },
  {
   "cell_type": "markdown",
   "id": "2d5cd787-0fef-4b66-99bc-efb88a7b550e",
   "metadata": {},
   "source": [
    "### Теоретически на базовый актив, по которому не платятся дивиденды, цена опцион-колла американского и европейского должна быть одинаковой, поскольку исполнение американского колла ДО $T$ никогда не бывает оптимальным. Почему никогда не стоит исполнять американский недивидендный колл до срока погашения?\n",
    "### Если мы исполняем опцион-колл, мы получаем только \"внутреннюю\" стоимость опциона ($S-K$). Также и американские, и европейские опционы-колл всегда содержат time value по недивидендным акциям, поэтому инвестору лучше продать колл, чем исполнить его до $T$. Rearrange'нем put-call parity для европейских опционов: $c = S - K^{-rt} + p = (S-K)+(K-K^{-rt})+p$, т.е. цена европейского колл-опциона без дивидендов состоит из трёх компонентов: 1. внутренняя стоимость опциона $S-K$; 2. time value of the strike (если мы исполним сейчас, мы заплатим $K$ вместо $K$ в срок погашения, то ниже, чем present value); 3. цена опциона-пут – protestion against falling stock price. (2) и (3) положительные, так что для оптимальной продажи опцион-колл должен стоить больше своей внутренней стоимости.\n",
    "<hr>"
   ]
  },
  {
   "cell_type": "markdown",
   "id": "b97ee3ed-1ee8-4871-89a6-5b682a6089a7",
   "metadata": {},
   "source": [
    "### Рассмотрим две стратегии:\n",
    "### 1. Мы исполняем колл в момент $t$ ($<T$) и получаем кэш $S-K$. \n",
    "### 2. Мы сохраняем колл, шортим базовый актив (акцию) и кладём $K$ долларов под процентную ставку $r$ (кэш от короткой продажи $S$ больше, чем $K$). В день погашения $T$ мы исполняем опцион, если он \"in the money\" (имеет смысл исполнять), закрываем короткую позицию и снимаем деньги с процентами. \n",
    "### В момент $t$ у нас такой же cash-flow как от исполнения колла ($S-K$), но в момент $T$ у нас также положительный cash-flow. От второй стратегии мы можем к сроку погашения $T$ залутать доп. кэш.\n",
    "<img src='https://sun9-2.userapi.com/impg/ZSbMWBGCQKE_h6srSasP0hXrjoKEoEA7N0OsVA/LbVEnosqLkI.jpg?size=1194x480&quality=96&sign=ccded9c8a75f77f2d91b8b865555324e&type=album' width=500>\n",
    "<hr>"
   ]
  },
  {
   "cell_type": "markdown",
   "id": "18c3bf56-d92c-4d8e-8deb-150efb2d303a",
   "metadata": {},
   "source": [
    "### Европейский пут на недевидендную акцию с $K = 80$ сейчас стоит 8 долларов ($P(80$), а пут на те же акции с $K=90$ стоит 9 долларов ($P(90)$). Есть ли арбитраж в этих случаях?\n",
    "### Тут будет формула $8/9\\times P(90) = 8/9\\times 9 = 8 > P(80)$. Поскольку пут со страйком 80 долларов стоит 8, он переоценён, и нам надо шортить его. Overall арбитраж: зашортить 8 штук пута с $K=80$ и взяь в лонг 8 штук пута с $K=90$. В момент $t=0$ cash-flow будет также $0$. В момент $T$ есть три возможных сценария:\n",
    "### 1. $S_T ≥ 90$, payoff = 0 (пут не исполняем);\n",
    "### 2. $90 > S_T ≥ 80$, payoff $= 8\\times (90 - S_T) > 0$ (путы с $K=90$ исполняем);\n",
    "### 3. $S_T < 80$, payoff $= 8 \\times (90 - S_T)-9\\times(80-S_T)) = S_T>0$ (все путы исполняем).\n",
    "<hr>"
   ]
  },
  {
   "cell_type": "markdown",
   "id": "75337832-6930-495d-a2f0-2f70b4b82345",
   "metadata": {},
   "source": [
    "## <font color=7E87FC>Black-Scholes Equation</font>.\n",
    "### Допустим, мы хотим определить цену условного ванильного европейского опциона-колл $C$ (страйк) на основе меняющегося в цене во времени актива $S$, срок погашения которого $T$. Допустим, $S$ следует геометрическому броуновскому движению со средней скоростью $\\mu$ и волатильностью $\\sigma$. Параметры $r, \\mu, \\sigma$ не являются функциями времени $t$, то есть цена актива $S$ фиксируется на протяжении всего срока действия опциона.\n",
    "### Поскольку цена нашего опциона $C$ является функцией времени $t$ и цены базового актива $S$, мы будем использовать обозначение $C=C(S,t)$ для представления цены опциона.\n",
    "### Первым шагом используем Ito's lemma на функции $C(S,t)$, чтобы получить СДУ (SDE – stochastic differential equation):\n",
    "### $dC = \\frac{\\delta C}{\\delta t}dt + \\frac{\\delta C}{\\delta S}(S,t)ds + \\frac{1}{2} \\frac{\\delta^2C}{\\delta S^2}(S,t)dS^2$.\n",
    "### Цена базового актива $S$ опр. геометрическим броуновским движением ($\\mu, \\sigma = const$, то есть параметры не являются функциями $S,t$):\n",
    "### $dS(t) = \\mu S(t)dt + \\sigma S(t)dX(t)$.\n",
    "### Можем поставить это выражение в лемму Ито, чтобы получить:\n",
    "### $dC = (\\frac{\\delta C}{\\delta t}(S,t) + \\mu S \\frac{\\delta C}{\\delta S}(S,t)+\\frac{1}{2}\\sigma^2S^2\\frac{\\delta^2 C}{\\delta S^2}(S,t))dt + \\sigma S \\frac{\\delta C}{\\delta S}(S,t)dX$.\n",
    "### Суть этого в том, что полностью хеджированный портфель, в котором исключены все риски, будет расти безрисковыми темпами. Таким образом, нужно определить, как меняется портфель во времени. В частности, нас интересует бесконечно малое изменение комбинации опционов-колл и количества активов. Величину обозначим как $\\Delta$, тогда:\n",
    "### $d(C+\\Delta S) = (\\frac{\\delta C}{\\delta t}(S,t)+\\frac{1}{2}\\sigma^2 S^2 \\frac{\\delta^2 C}{\\delta S^2}(S,t))dt$.\n",
    "### Этот метод известен как дельта-хеджирование и даёт нам портфель, свободный от рандома. Вот как мы можем применить аргумент о том, что он должен расти по безрисковой ставке, иначе у нас была бы возможность арбитража. Следовательно, скорость роста нашего портфеля с дельта-хеджированием должна быть равна постоянно увеличивающейся безрисковой ставке $r$. Таким образом:\n",
    "### $\\frac{\\delta C}{\\delta t}(S,t) + \\frac{1}{2}\\sigma^2 S^2 \\frac{\\delta^2 C}{\\delta S^2}(S,t) = r(C - S\\frac{\\delta C}{\\delta S})$.\n",
    "### Если мы подшаманим над уравнением и, используя сокращённую запись, чтобы исключить зависимость от $(S,t)$, мы придём к известному уравнению Блэка-Шоулза:\n",
    "### $\\frac{\\delta C}{\\delta t} + rS\\frac{\\delta C}{\\delta S} + \\frac{1}{2}\\sigma^2 S^2 \\frac{\\delta^2 C}{\\delta S^2} - rC = 0$.\n",
    "### Уравнение представляет собой линейное дифференциальное уравнение в частных производных (PDe = partial differential equation) второго порядка, и без граничных условий (e.g. функция выигрыша для нашего опциона-колл), мы не сможем его решить.\n",
    "### Одна из payoff-функций, которую мы можем использовать – это функция европейского опциона-колл со страйком $K$ со сроком $T$:\n",
    "### $C(S,T) = max(S-K,0)$.\n",
    "### В модели Блэка-Шоулза ключевой элемент для определения стоимости опциона – волатильность базового актива (прямо пропорционально влияет на стоимость актива). Таким образом, если известна стоимость опциона, можно определить уровень ожидаемой рынком волатильности. Также в Блэка-Шоулза учитываются бездивидендные активы. Также не существует возможности арбитража (типа рынки эффективные?). В общей сложности у модели 7 очень стерильных допущений...\n",
    "<hr>"
   ]
  },
  {
   "cell_type": "markdown",
   "id": "73ff7e96-faef-4b3f-9920-651e5f5130b5",
   "metadata": {},
   "source": [
    "### <font color=7E87FC>Black-Scholes-Merton differential equation</font>. Из изначальной модели Б-Ш напрямую следуте модель Мертона, позволяющая смоделировать значения собственного капитала компании на основании значений стоимости компании и её долга, представленного в виде бескупонной облигации. В данном случае каиптал $S$ представим в виде длинного опциона-колл на совокупную стоимость компании $V$ с ценой стройк в значении номинала бескупонной облигации $F$:\n",
    "### $S = max(V-F,0)$.\n",
    "### Долг $D$ в свою очередь представим в виде портфеля либо с длинной позицией с бескупонной облигацией $F$ и коротким опционом-пут на каиптал компании $V$ с ценой $F$, либо с длинной позицией на каиптал компании $V$ и коротким опционом-колл на $V$ со страйком $F$:\n",
    "### $D = F - max(F-V,0) = V-max(V-F,0)$.\n",
    "<hr>"
   ]
  },
  {
   "cell_type": "markdown",
   "id": "1b8488f8-e4c2-4161-a468-3f39a9d07a1a",
   "metadata": {},
   "source": [
    "## <font color=7E87FC>6.2 The Greeks</font>.\n",
    "### \"Греки\" – это частные производные первого или второго порядка от цены опциона по разным факторам, которыми измеряются риски (цена дериватива далее = $f$):\n",
    "### <font color=7E87FC>Delta</font>: $\\Delta = \\frac{\\delta f}{\\delta S}$ (реакция цены опциона на изменения стоимости базового актива). Дельта коллов от 0 до 1, а путов – от -1 до 0. Также дельту называют коэффициентом вероятности выхода опциона в деньги. Чем ближе опцион к \"in the money\", тем больше дельта.\n",
    "### <font color=7E87FC>Gamma</font>: $\\Gamma = \\frac{\\delta^2 f}{\\delta S^2}$ (second-order = скорость изменения дельты);\n",
    "### <font color=7E87FC>Theta</font>: $\\Theta = \\frac{\\delta f}{\\delta t}$;\n",
    "### <font color=7E87FC>Vega</font>: $v = \\frac{\\delta f}{\\delta \\sigma}$ (такой грееческой буквы нет). Рост волатильности увеличивает стоимость опциона, т.к. искомая прибыль может зарабатываться быстрее на волатильных инструментах. При приближении к сроку погашения вега падает, т.к. long-term options более чувствительны к изменениям волатильности.\n",
    "### <font color=7E87FC>Rho</font>: $\\rho = \\frac{\\delta f}{\\delta r}$ (к безрисковой процентной ставке). В случае опционов данный показатель практически игнорируется трейдерами.\n",
    "<hr>"
   ]
  },
  {
   "cell_type": "markdown",
   "id": "5ad14208-bf2f-4166-8d47-3dda54f1b2eb",
   "metadata": {},
   "source": [
    "## <font color=7E87FC>6.3 Option Portfolios and Exotic Options</font>.\n",
    "### <font color=7E87FC>Bull spread</font>. Bull call spread – портфель с двумя опционами: покупаем колл $c_1$ со страйком $K_1$ и шортим $c_2$ со страйком $K_2$ ($K_2>K_1$). Оба опциона имеют одинаковую базовую акцию и дату экспирации. Исп. тогда, когда трейдер делает ставку на то, что акция будет иметь ограниченный рост цены.\n",
    "### <font color=7E87FC>Straddle</font>. Стрэдл включает в себя покупку опционов-колл и -пут с одинаковым страйком $K$ и $T$ по одному и тому же базовому активу. Payoff по стрэддлу $= |S_T - K|$. Стрэдл можно использовать для ставок на большие колебания цен на акции, по сути ставки на волатильность. Если трейдер считает, что будущая волатильность будет намного выше ожидаемой на колл и пут, то он купит стрэддл. Стоимость at-the-money колла или пута (ATM: $K=S_T$; $\\Delta \\approx 0$) практически является линейной фуннкцией волатильности.  Покупая стрэддл на ATM-опционы, у обоих колл и пут цена примерно будет $c \\approx p \\approx 0.4\\sigma_i S \\sqrt{\\theta}$. Если реализованная волатильность выше, то опционы будут недооценёнными.\n",
    "### <font color=7E87FC>Delta hedging</font> снижает риск потерь от изменения цены базового актива за счёт компенсации длинными и короткими позициями. <font color=7E87FC>Gamma hedging</font> снижает риск, связанный с изменением $\\Delta$ опциона.\n",
    "### <font color=7E87FC>Binary options</font>. Cash-or-nothing (всё или ничего) колл опцион со страйком $K$ даёт 1 доллар, если цена актива выше $K$ в срок погашения, иначе не даётся ничего. Херовая стратегия по мере приближения к $T$ и соотв. повышения волатильности цены базового актива.\n",
    "### <font color=7E87FC>Exchange options</font> <font color=red>??????</font>.\n",
    "<hr>"
   ]
  },
  {
   "cell_type": "markdown",
   "id": "863b8091-49e7-489b-b1a9-823652de1611",
   "metadata": {},
   "source": [
    "## <font color=7E87FC>6.4 Other Finance Questions</font>.\n",
    "### <font color=7E87FC>Portfolio optimization</font>. Простой портфель из двух акций $A,B$, от обеих ожидаем доходность 12%. $\\sigma_A = 0.2, \\sigma_B = 0.3$. Корреляция между доходностями $=0.5$.\n",
    "### Средне-дисперсионный (mean-variance) Гарри Марковитца – самая известная и изученная модель оптимизации портфеля. Предположения модели: инвестор предпочитает (1) большую доходность при данном уровне волатильности актива и (2) более низкую волатильность при данной доходности. Ожидаемая доходность и дисперсия портфеля из $N$ активов будет: \n",
    "### $\\mu_p = w_1\\mu_1 + w_2\\mu_2 + \\ldots + w_N\\mu_N = w^T\\mu$\n",
    "### $var(r_p) = \\sum_{i=1}^N \\sigma_i^2 w_i^2 + \\sum_{i \\neq j} \\sigma_{ij}w_iw_j = w^T \\sum w$, где $w_i, \\forall i=1,\\ldots,N$ – вес $i$-го актива в портфеле, $\\mu_i$ – ожидаемая доходность, $\\sigma_i$ – дисперсия, $\\sigma_{ij} = \\rho_{ij}\\sigma_i\\sigma_j$ – ковариация активов, $w$ – вектор-столбец $N\\times 1$ весов активов, $\\mu$ – также вектор, $\\sum$ – ковариационная матрица доходностей $N$ активов размерности $N\\times N$.\n",
    "### $var(r_p) = \\sigma_A^2 w_A^2 + \\sigma_B^2w_B^2 + 2\\rho_{A,B}\\sigma_A\\sigma_Bw_aw_b = \\sigma_A^2w_A^2 + \\sigma_B^2(1-w_A)^2 + 2\\rho_{A,B}\\sigma_A\\sigma_Bw_A(1-w_A)$. Далее от $var(r_p)$ нужно взять производную по $w_A$.\n",
    "### При одинаковой доходности двух активов следует взять как вес $A$: $w_A = \\frac{\\sigma_B^2 - \\rho_{A,B}\\sigma_A\\sigma_B}{\\sigma_A^2-2\\rho_{A,B}\\sigma_A\\sigma_B + \\sigma_B^2} = \\frac{0.09 - 0.5 \\times 0.2 \\times 0.3}{0.04 - 2\\times 0.5 \\times 0.2 \\times 0.3 + 0.09} = \\frac{6}{7}$. То есть стоит вложить 6/7 денег в $A$ и 1/7 в $B$.\n",
    "### <font color=7E87FC>Value at risk</font>. VaR и stress test (scenario analysis) – два важных инструмента в риск-менеджменте. \n",
    "### VaR – максимальный убыток на целевом горизонте, при котором существует низкая заранее заданная вероятность того, что фактический убыток будет больше. С заданным доверительным уровнем $\\alpha \\in (0,1)$, VaR можно определить как $\\alpha = \\int_{-VaR}^{\\infty} xf(x)dx$, где $x$ – денежный профит (убыток) и $f(x)$ – pdf. $\\alpha$ обычно берут $0.95$ или $0.99$. Фактически это будет первый или пятый процентиль profit distribution.\n",
    "### Однако когда распределение прибыли/убытка далеко от нормального, как в случае со многими деривативами, хвостовая часть оказывает большое влияние на риск, а VaR часто не отражает реальный риск. Например, если мы работаем с дефолтным свопом на облигацию $A$ номиналом в 1 млн долларов, и, предположим, вероятность дефолта 3%, а убыток при дефолте равен 100% (без возмещения). Мы сталкиваемся с кредитным риском облигации $A$. Однако если мы используем уровень confidence 95%, то VaR $=0$, т.к. вероятность дефолта составляет менее 5%.\n",
    "### Также VaR не является sub-additive мерой риска, то есть если мы объединянем две позиции $A,B$ в портфель $C$, то мы не всегда получим $VaR(C) ≤ VaR(A) + VaR(B)$."
   ]
  },
  {
   "cell_type": "markdown",
   "id": "c9db8d7c-57e0-4a09-a80d-ea4d061ca921",
   "metadata": {},
   "source": [
    "### <font color=7E87FC>Duration</font> бонда опр. как $D = -\\frac{1}{P}\\frac{d}{dy}$, где $P$ – цена бонда, $y$ – yield to maturity. Duration измеряет чувствительность бонда к изменениям процентной ставки.\n",
    "### <font color=7E87FC>Convexity</font> бонда опр. как $C = \\frac{1}{P}\\frac{d^2P}{dy^2}$. Когда $\\Delta y$ мало, $\\frac{\\Delta P}{P} \\approx - D \\Delta y$. Convexity (выпуклость) – взаимодействие между ценой бонда и его доходностью при изменении процентных ставок.\n",
    "### Для бондов с фиксированной ставкой $c$ и сроком погашения $T$: $T\\uparrow \\Rightarrow D \\uparrow; c \\uparrow \\Rightarrow D \\downarrow; y \\uparrow \\Rightarrow D \\downarrow; T \\uparrow \\Rightarrow C \\uparrow; c\\uparrow \\Rightarrow C \\downarrow; y\\uparrow \\Rightarrow C\\downarrow$.\n",
    "### <font color=7E87FC>Dollar duration</font> (dollar value of a basis point – долларовая дюрация): $DV01 = -\\frac{dP}{10,000 \\times dy}$ измеряет изменение цены при изменении доходности на один базисный пункт (0.01%). Измерение процентного риска портфеля свопов, облигаций и прочих инструментов с фиксированной доходностью.\n",
    "### <font color=7E87FC>Forward and futures</font>. \n",
    "### <font color=7E87FC>Фьючерсы</font> – торгуемые на бирже стандартизированные контракты. Ежедневная переоценка рынком.\n",
    "### <font color=7E87FC>Форварды</font> – OTC (over-the-counter – внебиржевые) инструменты – более flexible.\n",
    "### Задача: если цена базового актива сильно коррелирует с процентной ставкой, которые сами случайны, у чего будет больше цена: у фьючерса или форварда? Why?\n",
    "### Если процентная ставка deterministic (детерминирована), фьючерсы и форварды имеют одинаковую теоретическую цену: $F = Se^{(r+u-y)\\tau}$, где $u$ – затраты на хранение, $y$ – дивидендная доходность инвестактивов.\n",
    "### По мере увеличения срока действия фьючерсного контракта различия с форвардным могут становиться значительными.\n",
    "### Если цена фьючерса положительно коррелирует с процентной ставкой, то фьючерс будет дороже форварда."
   ]
  },
  {
   "cell_type": "markdown",
   "id": "68ab12da-33fa-4c7a-90f2-59031aa4db79",
   "metadata": {},
   "source": [
    "### <font color=7E87FC>Interest rate models</font>.\n",
    "### В общем и целом, модели процентных ставок можно разделить на 2 категории: short-rate models и forward-rate models.\n",
    "## <font color=7E87FC>Equilibrium short-rate models</font>:\n",
    "### <font color=7E87FC>Vasicek model</font> (модель Васичека): $dR(t) = a(b-R(t))dt+\\sigma dW(t)$, где $W(t)$ – Винеровский (Wiener) процесс, моделирующий фактор случайного рыночного риска (непрерывный приток случайности в систему), $b$ – long term mean level, $a$ – speed of reversion (насколько быстро возврат к $b$). Когда $R(t)>b$, drift rate $<0$, и наоборот. Модель Васичека обладает свойством возврата к среднему значению в сторону долгосрочного среднего значения $b$.\n",
    "### <font color=7E87FC>Cox-Ingersoll-Ross model</font>: $dR(t) = a(b-R(t))dt+\\sigma \\sqrt{R(u)}dW(t)$ – в отличие от модели Васичека гарантирует то, что short-rate $>0$.\n",
    "## <font color=7E87FC>No-arbitrage short-rate models</font>:\n",
    "### <font color=7E87FC>Ho-Lee model</font>: $dr = \\theta(t)dt + \\sigma dz$, где $\\theta(t)$ – time-dependent drift.\n",
    "### <font color=7E87FC>Hull-White model</font>: $dR(t) = a(b(t)-R(t))dt + \\sigma dW(t)$ – отличие от Васичека в том, что $b(t)$ завиист от времени.\n",
    "<hr>"
   ]
  },
  {
   "cell_type": "markdown",
   "id": "3309719e-5012-474c-a1fd-1791e73313e0",
   "metadata": {},
   "source": [
    "### <font color=7E87FC>Monte Carlo simulation</font> – метод итеративной оценки детерминированной модели с использованием входных данных случайных чисел с соответствующими вероятностями. Для ценообразования деривативов он моделирует большое количество ценовых траекторий базовых активов с вероятностью, соотв. лежащему в основе стохастическому процессу, вычисляет дисконтированный выигрыш дериватива для каждой траектории и усредняет дисконтированные выигрыши. Справедливость Монте-Карло основана на законе больших чисел (при очень большом количестве попыток среднее выборки равно матожиданию распределения). Монте-Карло нельзя использовать для американских опционов!!!"
   ]
  },
  {
   "cell_type": "code",
   "execution_count": null,
   "id": "74db5c7a-5ea3-4308-8702-470a5f17dbda",
   "metadata": {},
   "outputs": [],
   "source": []
  }
 ],
 "metadata": {
  "kernelspec": {
   "display_name": "Python 3 (ipykernel)",
   "language": "python",
   "name": "python3"
  },
  "language_info": {
   "codemirror_mode": {
    "name": "ipython",
    "version": 3
   },
   "file_extension": ".py",
   "mimetype": "text/x-python",
   "name": "python",
   "nbconvert_exporter": "python",
   "pygments_lexer": "ipython3",
   "version": "3.9.12"
  }
 },
 "nbformat": 4,
 "nbformat_minor": 5
}
